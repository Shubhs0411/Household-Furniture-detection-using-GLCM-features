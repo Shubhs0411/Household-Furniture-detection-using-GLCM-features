{
 "cells": [
  {
   "cell_type": "markdown",
   "metadata": {},
   "source": [
    "# Computer Vision Course Project - Household Object Detection\n",
    "#### Shubham Deshmukh (28), Atharva Deshpande (29), Ninad Ekbote (33),Vedant Ghodke (38)"
   ]
  },
  {
   "cell_type": "markdown",
   "metadata": {},
   "source": [
    "<b>This is the code submitted for Phase 1 evaluation of the Computer Vision Course Project. The code targets two things viz: image re-processing and image feature extraction. At first, we have chosen a dataset of three different furniture types: Beds, Sofas and Chairs; each of these containing 200 images in RGB format.</b>\n",
    "\n",
    "<b>The above process is followed by image pre-processing. Here we simply convert the entire dataset from RGB to Grey Scale format for ease of implementation and suitability for feature extraction. This is followed by the process of feature extraction. Here, the feature extraction method used is GLCM Feature Extraction. The chosen features (which suit the chosen dataset the best) are Contrast, Dissimilarity, Homogeneity, ASM, Energy and Correlation.</b>"
   ]
  },
  {
   "cell_type": "markdown",
   "metadata": {},
   "source": [
    " <b>Importing Relevant Directories:</b>"
   ]
  },
  {
   "cell_type": "code",
   "execution_count": null,
   "metadata": {},
   "outputs": [],
   "source": [
    "from skimage.feature import greycomatrix, greycoprops, local_binary_pattern\n",
    "import os\n",
    "import numpy as np\n",
    "import matplotlib.pyplot as plt\n",
    "import cv2\n",
    "import xlsxwriter"
   ]
  },
  {
   "cell_type": "markdown",
   "metadata": {},
   "source": [
    "<b>Importing The Image Dataset:</b>"
   ]
  },
  {
   "cell_type": "code",
   "execution_count": null,
   "metadata": {},
   "outputs": [],
   "source": [
    "print(\"Welcome To Indoor Furniture Recognition!\")\n",
    "print(\"Authors - Shubham Deshmukh, Atharva Deshpande,Ninad Ekbote,Vedant Ghodke\")\n",
    "#path = input (\"Please enter the path of the directory containing the dataset images : \")\n",
    "Datadir=\"C:/Users/NINAD EKBOTE/Desktop/College/studies/Computer V/furniture-images/img/val\"\n",
    "#Datadir= path\n",
    "Classes=[\"bed\",\"chair\",\"sofa\"]\n",
    "path=[]\n",
    "i=0\n",
    "for c in Classes:\n",
    "    path.append(os.path.join(Datadir,c))\n",
    "    print(path[i])\n",
    "    i=i+1"
   ]
  },
  {
   "cell_type": "markdown",
   "metadata": {},
   "source": [
    "<b>Actual Mathematical Formulae For Chosen Features:</b> "
   ]
  },
  {
   "attachments": {
    "formula.PNG": {
     "image/png": "[encoded data removed]"
    }
   },
   "cell_type": "markdown",
   "metadata": {},
   "source": [
    "\n",
    "\n",
    "![formula.PNG](attachment:formula.PNG) "
   ]
  },
  {
   "cell_type": "markdown",
   "metadata": {},
   "source": [
    "<b>Image Pre-Processing And GLCM Feature Extraction:</b>"
   ]
  },
  {
   "cell_type": "code",
   "execution_count": null,
   "metadata": {},
   "outputs": [],
   "source": [
    "r=1\n",
    "outWorkbook=xlsxwriter.Workbook(\"val_sofa.xlsx\")\n",
    "outsheet=outWorkbook.add_worksheet()\n",
    "\n",
    "# Pre-Formatting Excel File To Extract The Features:\n",
    "\n",
    "outsheet.write(\"A1\",\"contrast\")\n",
    "outsheet.write(\"B1\",\"dissimilarity\")\n",
    "outsheet.write(\"C1\",\"homogeneity\")\n",
    "outsheet.write(\"D1\",\"ASM\")\n",
    "outsheet.write(\"E1\",\"energy\")\n",
    "outsheet.write(\"F1\",\"correlation\")\n",
    "\n",
    "for i in os.listdir(path[2]):\n",
    "    img=cv2.imread(os.path.join(path[2],i),0)                               ### Conversion of image to Grey Scale (Image Pre-Processing)\n",
    "    img=cv2.resize(img,(256,256))                                           ### Resizing of image to a sized of 256x256\n",
    "    img_arr=np.array(img)                                                   ### Conversion of image to NP Array\n",
    "\n",
    "\n",
    "# Image GLCM Features' Extraction:\n",
    "\n",
    "    Glcm_mat=greycomatrix(img_arr,[2],[0],256,symmetric=True, normed=True)\n",
    "    contrast=greycoprops(Glcm_mat, prop='contrast')\n",
    "    dissimilarity=greycoprops(Glcm_mat, prop='dissimilarity')\n",
    "    homogeneity=greycoprops(Glcm_mat, prop='homogeneity')\n",
    "    ASM=greycoprops(Glcm_mat, prop='ASM')\n",
    "    energy=greycoprops(Glcm_mat, prop='energy')\n",
    "    correlation=greycoprops(Glcm_mat, 'correlation')\n",
    "\n",
    "    outsheet.write(r,0,contrast)\n",
    "    outsheet.write(r,1,dissimilarity)\n",
    "    outsheet.write(r,2,homogeneity)\n",
    "    outsheet.write(r,3,ASM)\n",
    "    outsheet.write(r,4,energy)\n",
    "    outsheet.write(r,5,correlation)\n",
    "\n",
    "    r=r+1\n",
    "    if(r==21):                  ### For validation dataset, break the loop at r=21, for training dataset, break loop at r=201\n",
    "        break\n",
    "outWorkbook.close()"
   ]
  },
  {
   "cell_type": "markdown",
   "metadata": {},
   "source": [
    "<b>Randomizing rows of uniform dataset</b>"
   ]
  },
  {
   "cell_type": "code",
   "execution_count": null,
   "metadata": {},
   "outputs": [],
   "source": [
    "import numpy as np\n",
    "import pandas as pd\n",
    "df=pd.read_csv(r'C:\\Users\\admin\\Desktop\\trainuniform.csv')\n",
    "df = df.sample(frac = 1)\n",
    "df.to_csv('train.csv')"
   ]
  },
  {
   "cell_type": "code",
   "execution_count": null,
   "metadata": {},
   "outputs": [],
   "source": [
    "tf=pd.read_csv(r'C:\\Users\\admin\\Desktop\\valuniform.csv')\n",
    "tf = tf.sample(frac = 1)\n",
    "tf.to_csv('val.csv')"
   ]
  },
  {
   "cell_type": "markdown",
   "metadata": {},
   "source": [
    "# Training"
   ]
  },
  {
   "cell_type": "code",
   "execution_count": 1,
   "metadata": {},
   "outputs": [],
   "source": [
    "import pandas as pd\n",
    "import numpy as np\n",
    "import cv2\n",
    "import seaborn as sns\n",
    "from skimage.feature import greycomatrix,greycoprops\n",
    "import matplotlib.pyplot as plt\n",
    "from sklearn.model_selection import train_test_split\n",
    "from sklearn.pipeline import Pipeline\n",
    "from sklearn.preprocessing import StandardScaler\n",
    "from sklearn.tree import DecisionTreeClassifier\n",
    "from sklearn.metrics import classification_report\n",
    "%matplotlib inline"
   ]
  },
  {
   "cell_type": "code",
   "execution_count": 2,
   "metadata": {},
   "outputs": [
    {
     "data": {
      "text/html": [
       "<div>\n",
       "<style scoped>\n",
       "    .dataframe tbody tr th:only-of-type {\n",
       "        vertical-align: middle;\n",
       "    }\n",
       "\n",
       "    .dataframe tbody tr th {\n",
       "        vertical-align: top;\n",
       "    }\n",
       "\n",
       "    .dataframe thead th {\n",
       "        text-align: right;\n",
       "    }\n",
       "</style>\n",
       "<table border=\"1\" class=\"dataframe\">\n",
       "  <thead>\n",
       "    <tr style=\"text-align: right;\">\n",
       "      <th></th>\n",
       "      <th>Unnamed: 0</th>\n",
       "      <th>contrast</th>\n",
       "      <th>dissimilarity</th>\n",
       "      <th>homogeneity</th>\n",
       "      <th>ASM</th>\n",
       "      <th>energy</th>\n",
       "      <th>correlation</th>\n",
       "      <th>class</th>\n",
       "    </tr>\n",
       "  </thead>\n",
       "  <tbody>\n",
       "    <tr>\n",
       "      <th>0</th>\n",
       "      <td>183</td>\n",
       "      <td>1519.905097</td>\n",
       "      <td>18.064453</td>\n",
       "      <td>0.187073</td>\n",
       "      <td>0.000402</td>\n",
       "      <td>0.020062</td>\n",
       "      <td>0.858351</td>\n",
       "      <td>0</td>\n",
       "    </tr>\n",
       "    <tr>\n",
       "      <th>1</th>\n",
       "      <td>1298</td>\n",
       "      <td>60.420460</td>\n",
       "      <td>2.399729</td>\n",
       "      <td>0.705441</td>\n",
       "      <td>0.032119</td>\n",
       "      <td>0.179218</td>\n",
       "      <td>0.881632</td>\n",
       "      <td>1</td>\n",
       "    </tr>\n",
       "    <tr>\n",
       "      <th>2</th>\n",
       "      <td>459</td>\n",
       "      <td>206.388949</td>\n",
       "      <td>8.848994</td>\n",
       "      <td>0.171042</td>\n",
       "      <td>0.000424</td>\n",
       "      <td>0.020595</td>\n",
       "      <td>0.839316</td>\n",
       "      <td>0</td>\n",
       "    </tr>\n",
       "    <tr>\n",
       "      <th>3</th>\n",
       "      <td>691</td>\n",
       "      <td>327.449219</td>\n",
       "      <td>5.080309</td>\n",
       "      <td>0.612419</td>\n",
       "      <td>0.275445</td>\n",
       "      <td>0.524829</td>\n",
       "      <td>0.953331</td>\n",
       "      <td>0</td>\n",
       "    </tr>\n",
       "    <tr>\n",
       "      <th>4</th>\n",
       "      <td>1269</td>\n",
       "      <td>456.285910</td>\n",
       "      <td>6.752784</td>\n",
       "      <td>0.394209</td>\n",
       "      <td>0.002105</td>\n",
       "      <td>0.045882</td>\n",
       "      <td>0.928826</td>\n",
       "      <td>1</td>\n",
       "    </tr>\n",
       "  </tbody>\n",
       "</table>\n",
       "</div>"
      ],
      "text/plain": [
       "   Unnamed: 0     contrast  dissimilarity  homogeneity       ASM    energy  \\\n",
       "0         183  1519.905097      18.064453     0.187073  0.000402  0.020062   \n",
       "1        1298    60.420460       2.399729     0.705441  0.032119  0.179218   \n",
       "2         459   206.388949       8.848994     0.171042  0.000424  0.020595   \n",
       "3         691   327.449219       5.080309     0.612419  0.275445  0.524829   \n",
       "4        1269   456.285910       6.752784     0.394209  0.002105  0.045882   \n",
       "\n",
       "   correlation  class  \n",
       "0     0.858351      0  \n",
       "1     0.881632      1  \n",
       "2     0.839316      0  \n",
       "3     0.953331      0  \n",
       "4     0.928826      1  "
      ]
     },
     "execution_count": 2,
     "metadata": {},
     "output_type": "execute_result"
    }
   ],
   "source": [
    "df= pd.read_csv(r'C:\\Users\\admin\\Desktop\\TY Go Carona Go Sem2\\CV\\CV CP\\train.csv')\n",
    "df.head()"
   ]
  },
  {
   "cell_type": "code",
   "execution_count": 3,
   "metadata": {},
   "outputs": [
    {
     "name": "stdout",
     "output_type": "stream",
     "text": [
      "<class 'pandas.core.frame.DataFrame'>\n",
      "RangeIndex: 2700 entries, 0 to 2699\n",
      "Data columns (total 8 columns):\n",
      " #   Column         Non-Null Count  Dtype  \n",
      "---  ------         --------------  -----  \n",
      " 0   Unnamed: 0     2700 non-null   int64  \n",
      " 1   contrast       2700 non-null   float64\n",
      " 2   dissimilarity  2700 non-null   float64\n",
      " 3   homogeneity    2700 non-null   float64\n",
      " 4   ASM            2700 non-null   float64\n",
      " 5   energy         2700 non-null   float64\n",
      " 6   correlation    2700 non-null   float64\n",
      " 7   class          2700 non-null   int64  \n",
      "dtypes: float64(6), int64(2)\n",
      "memory usage: 168.9 KB\n"
     ]
    }
   ],
   "source": [
    "df.info()"
   ]
  },
  {
   "cell_type": "code",
   "execution_count": 4,
   "metadata": {},
   "outputs": [
    {
     "name": "stdout",
     "output_type": "stream",
     "text": [
      "Unnamed: 0       0\n",
      "contrast         0\n",
      "dissimilarity    0\n",
      "homogeneity      0\n",
      "ASM              0\n",
      "energy           0\n",
      "correlation      0\n",
      "class            0\n",
      "dtype: int64\n"
     ]
    }
   ],
   "source": [
    "print(df.isna().sum())"
   ]
  },
  {
   "cell_type": "code",
   "execution_count": 5,
   "metadata": {},
   "outputs": [
    {
     "data": {
      "text/plain": [
       "Index(['Unnamed: 0', 'contrast', 'dissimilarity', 'homogeneity', 'ASM',\n",
       "       'energy', 'correlation', 'class'],\n",
       "      dtype='object')"
      ]
     },
     "execution_count": 5,
     "metadata": {},
     "output_type": "execute_result"
    }
   ],
   "source": [
    "df.columns"
   ]
  },
  {
   "cell_type": "code",
   "execution_count": 6,
   "metadata": {},
   "outputs": [
    {
     "data": {
      "text/plain": [
       "0    900\n",
       "2    900\n",
       "1    900\n",
       "Name: class, dtype: int64"
      ]
     },
     "execution_count": 6,
     "metadata": {},
     "output_type": "execute_result"
    }
   ],
   "source": [
    "df['class'].value_counts()"
   ]
  },
  {
   "cell_type": "code",
   "execution_count": 7,
   "metadata": {},
   "outputs": [
    {
     "data": {
      "text/html": [
       "<div>\n",
       "<style scoped>\n",
       "    .dataframe tbody tr th:only-of-type {\n",
       "        vertical-align: middle;\n",
       "    }\n",
       "\n",
       "    .dataframe tbody tr th {\n",
       "        vertical-align: top;\n",
       "    }\n",
       "\n",
       "    .dataframe thead th {\n",
       "        text-align: right;\n",
       "    }\n",
       "</style>\n",
       "<table border=\"1\" class=\"dataframe\">\n",
       "  <thead>\n",
       "    <tr style=\"text-align: right;\">\n",
       "      <th></th>\n",
       "      <th>contrast</th>\n",
       "      <th>dissimilarity</th>\n",
       "      <th>homogeneity</th>\n",
       "      <th>ASM</th>\n",
       "      <th>energy</th>\n",
       "      <th>correlation</th>\n",
       "    </tr>\n",
       "  </thead>\n",
       "  <tbody>\n",
       "    <tr>\n",
       "      <th>0</th>\n",
       "      <td>1519.905097</td>\n",
       "      <td>18.064453</td>\n",
       "      <td>0.187073</td>\n",
       "      <td>0.000402</td>\n",
       "      <td>0.020062</td>\n",
       "      <td>0.858351</td>\n",
       "    </tr>\n",
       "    <tr>\n",
       "      <th>1</th>\n",
       "      <td>60.420460</td>\n",
       "      <td>2.399729</td>\n",
       "      <td>0.705441</td>\n",
       "      <td>0.032119</td>\n",
       "      <td>0.179218</td>\n",
       "      <td>0.881632</td>\n",
       "    </tr>\n",
       "    <tr>\n",
       "      <th>2</th>\n",
       "      <td>206.388949</td>\n",
       "      <td>8.848994</td>\n",
       "      <td>0.171042</td>\n",
       "      <td>0.000424</td>\n",
       "      <td>0.020595</td>\n",
       "      <td>0.839316</td>\n",
       "    </tr>\n",
       "    <tr>\n",
       "      <th>3</th>\n",
       "      <td>327.449219</td>\n",
       "      <td>5.080309</td>\n",
       "      <td>0.612419</td>\n",
       "      <td>0.275445</td>\n",
       "      <td>0.524829</td>\n",
       "      <td>0.953331</td>\n",
       "    </tr>\n",
       "    <tr>\n",
       "      <th>4</th>\n",
       "      <td>456.285910</td>\n",
       "      <td>6.752784</td>\n",
       "      <td>0.394209</td>\n",
       "      <td>0.002105</td>\n",
       "      <td>0.045882</td>\n",
       "      <td>0.928826</td>\n",
       "    </tr>\n",
       "  </tbody>\n",
       "</table>\n",
       "</div>"
      ],
      "text/plain": [
       "      contrast  dissimilarity  homogeneity       ASM    energy  correlation\n",
       "0  1519.905097      18.064453     0.187073  0.000402  0.020062     0.858351\n",
       "1    60.420460       2.399729     0.705441  0.032119  0.179218     0.881632\n",
       "2   206.388949       8.848994     0.171042  0.000424  0.020595     0.839316\n",
       "3   327.449219       5.080309     0.612419  0.275445  0.524829     0.953331\n",
       "4   456.285910       6.752784     0.394209  0.002105  0.045882     0.928826"
      ]
     },
     "execution_count": 7,
     "metadata": {},
     "output_type": "execute_result"
    }
   ],
   "source": [
    "df= df.drop('Unnamed: 0', axis=1)\n",
    "x = df.drop('class', axis=1)\n",
    "y = df['class']\n",
    "x.head()"
   ]
  },
  {
   "cell_type": "code",
   "execution_count": 8,
   "metadata": {},
   "outputs": [
    {
     "data": {
      "text/html": [
       "<div>\n",
       "<style scoped>\n",
       "    .dataframe tbody tr th:only-of-type {\n",
       "        vertical-align: middle;\n",
       "    }\n",
       "\n",
       "    .dataframe tbody tr th {\n",
       "        vertical-align: top;\n",
       "    }\n",
       "\n",
       "    .dataframe thead th {\n",
       "        text-align: right;\n",
       "    }\n",
       "</style>\n",
       "<table border=\"1\" class=\"dataframe\">\n",
       "  <thead>\n",
       "    <tr style=\"text-align: right;\">\n",
       "      <th></th>\n",
       "      <th>0</th>\n",
       "      <th>1</th>\n",
       "      <th>2</th>\n",
       "      <th>3</th>\n",
       "      <th>4</th>\n",
       "      <th>5</th>\n",
       "    </tr>\n",
       "  </thead>\n",
       "  <tbody>\n",
       "    <tr>\n",
       "      <th>0</th>\n",
       "      <td>2.740780</td>\n",
       "      <td>1.733260</td>\n",
       "      <td>-0.772099</td>\n",
       "      <td>-0.390828</td>\n",
       "      <td>-0.504163</td>\n",
       "      <td>-0.989311</td>\n",
       "    </tr>\n",
       "    <tr>\n",
       "      <th>1</th>\n",
       "      <td>-1.361102</td>\n",
       "      <td>-1.709675</td>\n",
       "      <td>2.192637</td>\n",
       "      <td>-0.086317</td>\n",
       "      <td>0.419689</td>\n",
       "      <td>-0.585129</td>\n",
       "    </tr>\n",
       "    <tr>\n",
       "      <th>2</th>\n",
       "      <td>-0.950858</td>\n",
       "      <td>-0.292197</td>\n",
       "      <td>-0.863785</td>\n",
       "      <td>-0.390620</td>\n",
       "      <td>-0.501068</td>\n",
       "      <td>-1.319788</td>\n",
       "    </tr>\n",
       "    <tr>\n",
       "      <th>3</th>\n",
       "      <td>-0.610618</td>\n",
       "      <td>-1.120513</td>\n",
       "      <td>1.660610</td>\n",
       "      <td>2.249861</td>\n",
       "      <td>2.425858</td>\n",
       "      <td>0.659664</td>\n",
       "    </tr>\n",
       "    <tr>\n",
       "      <th>4</th>\n",
       "      <td>-0.248522</td>\n",
       "      <td>-0.752921</td>\n",
       "      <td>0.412585</td>\n",
       "      <td>-0.374480</td>\n",
       "      <td>-0.354283</td>\n",
       "      <td>0.234225</td>\n",
       "    </tr>\n",
       "    <tr>\n",
       "      <th>...</th>\n",
       "      <td>...</td>\n",
       "      <td>...</td>\n",
       "      <td>...</td>\n",
       "      <td>...</td>\n",
       "      <td>...</td>\n",
       "      <td>...</td>\n",
       "    </tr>\n",
       "    <tr>\n",
       "      <th>2695</th>\n",
       "      <td>-1.255387</td>\n",
       "      <td>-1.874226</td>\n",
       "      <td>2.841329</td>\n",
       "      <td>1.351964</td>\n",
       "      <td>1.855238</td>\n",
       "      <td>-1.542074</td>\n",
       "    </tr>\n",
       "    <tr>\n",
       "      <th>2696</th>\n",
       "      <td>-1.066211</td>\n",
       "      <td>-0.841508</td>\n",
       "      <td>-0.459916</td>\n",
       "      <td>-0.387947</td>\n",
       "      <td>-0.466754</td>\n",
       "      <td>0.922731</td>\n",
       "    </tr>\n",
       "    <tr>\n",
       "      <th>2697</th>\n",
       "      <td>-0.235107</td>\n",
       "      <td>-0.282385</td>\n",
       "      <td>0.600315</td>\n",
       "      <td>0.700860</td>\n",
       "      <td>1.340205</td>\n",
       "      <td>0.772565</td>\n",
       "    </tr>\n",
       "    <tr>\n",
       "      <th>2698</th>\n",
       "      <td>0.548500</td>\n",
       "      <td>0.917051</td>\n",
       "      <td>-1.036713</td>\n",
       "      <td>-0.392788</td>\n",
       "      <td>-0.538864</td>\n",
       "      <td>-1.571736</td>\n",
       "    </tr>\n",
       "    <tr>\n",
       "      <th>2699</th>\n",
       "      <td>-0.699178</td>\n",
       "      <td>-0.638055</td>\n",
       "      <td>0.079733</td>\n",
       "      <td>-0.369898</td>\n",
       "      <td>-0.325631</td>\n",
       "      <td>1.044856</td>\n",
       "    </tr>\n",
       "  </tbody>\n",
       "</table>\n",
       "<p>2700 rows × 6 columns</p>\n",
       "</div>"
      ],
      "text/plain": [
       "             0         1         2         3         4         5\n",
       "0     2.740780  1.733260 -0.772099 -0.390828 -0.504163 -0.989311\n",
       "1    -1.361102 -1.709675  2.192637 -0.086317  0.419689 -0.585129\n",
       "2    -0.950858 -0.292197 -0.863785 -0.390620 -0.501068 -1.319788\n",
       "3    -0.610618 -1.120513  1.660610  2.249861  2.425858  0.659664\n",
       "4    -0.248522 -0.752921  0.412585 -0.374480 -0.354283  0.234225\n",
       "...        ...       ...       ...       ...       ...       ...\n",
       "2695 -1.255387 -1.874226  2.841329  1.351964  1.855238 -1.542074\n",
       "2696 -1.066211 -0.841508 -0.459916 -0.387947 -0.466754  0.922731\n",
       "2697 -0.235107 -0.282385  0.600315  0.700860  1.340205  0.772565\n",
       "2698  0.548500  0.917051 -1.036713 -0.392788 -0.538864 -1.571736\n",
       "2699 -0.699178 -0.638055  0.079733 -0.369898 -0.325631  1.044856\n",
       "\n",
       "[2700 rows x 6 columns]"
      ]
     },
     "execution_count": 8,
     "metadata": {},
     "output_type": "execute_result"
    }
   ],
   "source": [
    "from sklearn.preprocessing import StandardScaler\n",
    "from pandas import DataFrame\n",
    "sc = StandardScaler()\n",
    "x = sc.fit_transform(x)\n",
    "x=DataFrame(x)\n",
    "x"
   ]
  },
  {
   "cell_type": "code",
   "execution_count": 9,
   "metadata": {},
   "outputs": [
    {
     "data": {
      "text/html": [
       "<div>\n",
       "<style scoped>\n",
       "    .dataframe tbody tr th:only-of-type {\n",
       "        vertical-align: middle;\n",
       "    }\n",
       "\n",
       "    .dataframe tbody tr th {\n",
       "        vertical-align: top;\n",
       "    }\n",
       "\n",
       "    .dataframe thead th {\n",
       "        text-align: right;\n",
       "    }\n",
       "</style>\n",
       "<table border=\"1\" class=\"dataframe\">\n",
       "  <thead>\n",
       "    <tr style=\"text-align: right;\">\n",
       "      <th></th>\n",
       "      <th>0</th>\n",
       "      <th>1</th>\n",
       "      <th>2</th>\n",
       "      <th>3</th>\n",
       "      <th>4</th>\n",
       "      <th>5</th>\n",
       "    </tr>\n",
       "  </thead>\n",
       "  <tbody>\n",
       "    <tr>\n",
       "      <th>0</th>\n",
       "      <td>1.000000</td>\n",
       "      <td>0.831038</td>\n",
       "      <td>-0.231312</td>\n",
       "      <td>-0.017764</td>\n",
       "      <td>-0.042541</td>\n",
       "      <td>-0.656463</td>\n",
       "    </tr>\n",
       "    <tr>\n",
       "      <th>1</th>\n",
       "      <td>0.831038</td>\n",
       "      <td>1.000000</td>\n",
       "      <td>-0.654043</td>\n",
       "      <td>-0.318159</td>\n",
       "      <td>-0.387292</td>\n",
       "      <td>-0.687732</td>\n",
       "    </tr>\n",
       "    <tr>\n",
       "      <th>2</th>\n",
       "      <td>-0.231312</td>\n",
       "      <td>-0.654043</td>\n",
       "      <td>1.000000</td>\n",
       "      <td>0.770340</td>\n",
       "      <td>0.855937</td>\n",
       "      <td>0.280712</td>\n",
       "    </tr>\n",
       "    <tr>\n",
       "      <th>3</th>\n",
       "      <td>-0.017764</td>\n",
       "      <td>-0.318159</td>\n",
       "      <td>0.770340</td>\n",
       "      <td>1.000000</td>\n",
       "      <td>0.962450</td>\n",
       "      <td>0.036216</td>\n",
       "    </tr>\n",
       "    <tr>\n",
       "      <th>4</th>\n",
       "      <td>-0.042541</td>\n",
       "      <td>-0.387292</td>\n",
       "      <td>0.855937</td>\n",
       "      <td>0.962450</td>\n",
       "      <td>1.000000</td>\n",
       "      <td>0.107330</td>\n",
       "    </tr>\n",
       "    <tr>\n",
       "      <th>5</th>\n",
       "      <td>-0.656463</td>\n",
       "      <td>-0.687732</td>\n",
       "      <td>0.280712</td>\n",
       "      <td>0.036216</td>\n",
       "      <td>0.107330</td>\n",
       "      <td>1.000000</td>\n",
       "    </tr>\n",
       "  </tbody>\n",
       "</table>\n",
       "</div>"
      ],
      "text/plain": [
       "          0         1         2         3         4         5\n",
       "0  1.000000  0.831038 -0.231312 -0.017764 -0.042541 -0.656463\n",
       "1  0.831038  1.000000 -0.654043 -0.318159 -0.387292 -0.687732\n",
       "2 -0.231312 -0.654043  1.000000  0.770340  0.855937  0.280712\n",
       "3 -0.017764 -0.318159  0.770340  1.000000  0.962450  0.036216\n",
       "4 -0.042541 -0.387292  0.855937  0.962450  1.000000  0.107330\n",
       "5 -0.656463 -0.687732  0.280712  0.036216  0.107330  1.000000"
      ]
     },
     "execution_count": 9,
     "metadata": {},
     "output_type": "execute_result"
    }
   ],
   "source": [
    "correlation=x.corr()\n",
    "correlation"
   ]
  },
  {
   "cell_type": "code",
   "execution_count": 10,
   "metadata": {},
   "outputs": [],
   "source": [
    "from sklearn.model_selection import train_test_split\n",
    "x_train, x_test, y_train, y_test = train_test_split(x, y, test_size=0.2, shuffle=True)"
   ]
  },
  {
   "cell_type": "code",
   "execution_count": 11,
   "metadata": {},
   "outputs": [],
   "source": [
    "from sklearn.ensemble import AdaBoostClassifier\n",
    "# Create adaboost classifer object\n",
    "abc = AdaBoostClassifier(n_estimators=100,\n",
    "                         learning_rate=0.03)\n",
    "# Train Adaboost Classifer\n",
    "model = abc.fit(x_train,y_train)\n",
    "from sklearn import metrics\n",
    "#Predict the response for test dataset\n",
    "y_pred = model.predict(x_test)"
   ]
  },
  {
   "cell_type": "code",
   "execution_count": 12,
   "metadata": {},
   "outputs": [
    {
     "name": "stdout",
     "output_type": "stream",
     "text": [
      "Accuracy: 0.5074074074074074\n"
     ]
    }
   ],
   "source": [
    "print(\"Accuracy:\",metrics.accuracy_score(y_test, y_pred))"
   ]
  },
  {
   "cell_type": "code",
   "execution_count": 13,
   "metadata": {},
   "outputs": [
    {
     "name": "stdout",
     "output_type": "stream",
     "text": [
      "              precision    recall  f1-score   support\n",
      "\n",
      "           0       0.40      0.49      0.44       158\n",
      "           1       0.61      0.45      0.52       196\n",
      "           2       0.54      0.58      0.55       186\n",
      "\n",
      "    accuracy                           0.51       540\n",
      "   macro avg       0.51      0.51      0.51       540\n",
      "weighted avg       0.52      0.51      0.51       540\n",
      "\n"
     ]
    }
   ],
   "source": [
    "from sklearn.metrics import classification_report\n",
    "\n",
    "print(classification_report(y_test, y_pred))"
   ]
  },
  {
   "cell_type": "markdown",
   "metadata": {},
   "source": [
    "# Testing"
   ]
  },
  {
   "cell_type": "code",
   "execution_count": 14,
   "metadata": {},
   "outputs": [
    {
     "data": {
      "text/html": [
       "<div>\n",
       "<style scoped>\n",
       "    .dataframe tbody tr th:only-of-type {\n",
       "        vertical-align: middle;\n",
       "    }\n",
       "\n",
       "    .dataframe tbody tr th {\n",
       "        vertical-align: top;\n",
       "    }\n",
       "\n",
       "    .dataframe thead th {\n",
       "        text-align: right;\n",
       "    }\n",
       "</style>\n",
       "<table border=\"1\" class=\"dataframe\">\n",
       "  <thead>\n",
       "    <tr style=\"text-align: right;\">\n",
       "      <th></th>\n",
       "      <th>Unnamed: 0</th>\n",
       "      <th>contrast</th>\n",
       "      <th>dissimilarity</th>\n",
       "      <th>homogeneity</th>\n",
       "      <th>ASM</th>\n",
       "      <th>energy</th>\n",
       "      <th>correlation</th>\n",
       "      <th>class</th>\n",
       "    </tr>\n",
       "  </thead>\n",
       "  <tbody>\n",
       "    <tr>\n",
       "      <th>0</th>\n",
       "      <td>201</td>\n",
       "      <td>635.471349</td>\n",
       "      <td>13.537202</td>\n",
       "      <td>0.255135</td>\n",
       "      <td>0.000401</td>\n",
       "      <td>0.020035</td>\n",
       "      <td>0.885367</td>\n",
       "      <td>2</td>\n",
       "    </tr>\n",
       "    <tr>\n",
       "      <th>1</th>\n",
       "      <td>217</td>\n",
       "      <td>343.540846</td>\n",
       "      <td>3.880352</td>\n",
       "      <td>0.671095</td>\n",
       "      <td>0.241293</td>\n",
       "      <td>0.491216</td>\n",
       "      <td>0.983768</td>\n",
       "      <td>2</td>\n",
       "    </tr>\n",
       "    <tr>\n",
       "      <th>2</th>\n",
       "      <td>160</td>\n",
       "      <td>704.991511</td>\n",
       "      <td>10.143824</td>\n",
       "      <td>0.441720</td>\n",
       "      <td>0.001257</td>\n",
       "      <td>0.035448</td>\n",
       "      <td>0.914014</td>\n",
       "      <td>1</td>\n",
       "    </tr>\n",
       "    <tr>\n",
       "      <th>3</th>\n",
       "      <td>129</td>\n",
       "      <td>307.985498</td>\n",
       "      <td>6.233222</td>\n",
       "      <td>0.287969</td>\n",
       "      <td>0.000482</td>\n",
       "      <td>0.021962</td>\n",
       "      <td>0.970347</td>\n",
       "      <td>1</td>\n",
       "    </tr>\n",
       "    <tr>\n",
       "      <th>4</th>\n",
       "      <td>222</td>\n",
       "      <td>362.317913</td>\n",
       "      <td>4.146900</td>\n",
       "      <td>0.730625</td>\n",
       "      <td>0.371478</td>\n",
       "      <td>0.609490</td>\n",
       "      <td>0.982963</td>\n",
       "      <td>2</td>\n",
       "    </tr>\n",
       "  </tbody>\n",
       "</table>\n",
       "</div>"
      ],
      "text/plain": [
       "   Unnamed: 0    contrast  dissimilarity  homogeneity       ASM    energy  \\\n",
       "0         201  635.471349      13.537202     0.255135  0.000401  0.020035   \n",
       "1         217  343.540846       3.880352     0.671095  0.241293  0.491216   \n",
       "2         160  704.991511      10.143824     0.441720  0.001257  0.035448   \n",
       "3         129  307.985498       6.233222     0.287969  0.000482  0.021962   \n",
       "4         222  362.317913       4.146900     0.730625  0.371478  0.609490   \n",
       "\n",
       "   correlation  class  \n",
       "0     0.885367      2  \n",
       "1     0.983768      2  \n",
       "2     0.914014      1  \n",
       "3     0.970347      1  \n",
       "4     0.982963      2  "
      ]
     },
     "execution_count": 14,
     "metadata": {},
     "output_type": "execute_result"
    }
   ],
   "source": [
    "tf=pd.read_csv(r'C:\\Users\\admin\\Desktop\\TY Go Carona Go Sem2\\CV\\CV CP\\val.csv')\n",
    "tf.head()"
   ]
  },
  {
   "cell_type": "code",
   "execution_count": 15,
   "metadata": {},
   "outputs": [
    {
     "name": "stdout",
     "output_type": "stream",
     "text": [
      "<class 'pandas.core.frame.DataFrame'>\n",
      "RangeIndex: 300 entries, 0 to 299\n",
      "Data columns (total 8 columns):\n",
      " #   Column         Non-Null Count  Dtype  \n",
      "---  ------         --------------  -----  \n",
      " 0   Unnamed: 0     300 non-null    int64  \n",
      " 1   contrast       300 non-null    float64\n",
      " 2   dissimilarity  300 non-null    float64\n",
      " 3   homogeneity    300 non-null    float64\n",
      " 4   ASM            300 non-null    float64\n",
      " 5   energy         300 non-null    float64\n",
      " 6   correlation    300 non-null    float64\n",
      " 7   class          300 non-null    int64  \n",
      "dtypes: float64(6), int64(2)\n",
      "memory usage: 18.9 KB\n"
     ]
    }
   ],
   "source": [
    "tf.info()"
   ]
  },
  {
   "cell_type": "code",
   "execution_count": 16,
   "metadata": {},
   "outputs": [
    {
     "name": "stdout",
     "output_type": "stream",
     "text": [
      "Unnamed: 0       0\n",
      "contrast         0\n",
      "dissimilarity    0\n",
      "homogeneity      0\n",
      "ASM              0\n",
      "energy           0\n",
      "correlation      0\n",
      "class            0\n",
      "dtype: int64\n"
     ]
    }
   ],
   "source": [
    "print(tf.isna().sum())"
   ]
  },
  {
   "cell_type": "code",
   "execution_count": 17,
   "metadata": {},
   "outputs": [
    {
     "data": {
      "text/plain": [
       "Index(['Unnamed: 0', 'contrast', 'dissimilarity', 'homogeneity', 'ASM',\n",
       "       'energy', 'correlation', 'class'],\n",
       "      dtype='object')"
      ]
     },
     "execution_count": 17,
     "metadata": {},
     "output_type": "execute_result"
    }
   ],
   "source": [
    "tf.columns"
   ]
  },
  {
   "cell_type": "code",
   "execution_count": 18,
   "metadata": {},
   "outputs": [
    {
     "data": {
      "text/plain": [
       "0    100\n",
       "1    100\n",
       "2    100\n",
       "Name: class, dtype: int64"
      ]
     },
     "execution_count": 18,
     "metadata": {},
     "output_type": "execute_result"
    }
   ],
   "source": [
    "tf['class'].value_counts()"
   ]
  },
  {
   "cell_type": "code",
   "execution_count": 19,
   "metadata": {},
   "outputs": [
    {
     "data": {
      "text/html": [
       "<div>\n",
       "<style scoped>\n",
       "    .dataframe tbody tr th:only-of-type {\n",
       "        vertical-align: middle;\n",
       "    }\n",
       "\n",
       "    .dataframe tbody tr th {\n",
       "        vertical-align: top;\n",
       "    }\n",
       "\n",
       "    .dataframe thead th {\n",
       "        text-align: right;\n",
       "    }\n",
       "</style>\n",
       "<table border=\"1\" class=\"dataframe\">\n",
       "  <thead>\n",
       "    <tr style=\"text-align: right;\">\n",
       "      <th></th>\n",
       "      <th>contrast</th>\n",
       "      <th>dissimilarity</th>\n",
       "      <th>homogeneity</th>\n",
       "      <th>ASM</th>\n",
       "      <th>energy</th>\n",
       "      <th>correlation</th>\n",
       "    </tr>\n",
       "  </thead>\n",
       "  <tbody>\n",
       "    <tr>\n",
       "      <th>0</th>\n",
       "      <td>635.471349</td>\n",
       "      <td>13.537202</td>\n",
       "      <td>0.255135</td>\n",
       "      <td>0.000401</td>\n",
       "      <td>0.020035</td>\n",
       "      <td>0.885367</td>\n",
       "    </tr>\n",
       "    <tr>\n",
       "      <th>1</th>\n",
       "      <td>343.540846</td>\n",
       "      <td>3.880352</td>\n",
       "      <td>0.671095</td>\n",
       "      <td>0.241293</td>\n",
       "      <td>0.491216</td>\n",
       "      <td>0.983768</td>\n",
       "    </tr>\n",
       "    <tr>\n",
       "      <th>2</th>\n",
       "      <td>704.991511</td>\n",
       "      <td>10.143824</td>\n",
       "      <td>0.441720</td>\n",
       "      <td>0.001257</td>\n",
       "      <td>0.035448</td>\n",
       "      <td>0.914014</td>\n",
       "    </tr>\n",
       "    <tr>\n",
       "      <th>3</th>\n",
       "      <td>307.985498</td>\n",
       "      <td>6.233222</td>\n",
       "      <td>0.287969</td>\n",
       "      <td>0.000482</td>\n",
       "      <td>0.021962</td>\n",
       "      <td>0.970347</td>\n",
       "    </tr>\n",
       "    <tr>\n",
       "      <th>4</th>\n",
       "      <td>362.317913</td>\n",
       "      <td>4.146900</td>\n",
       "      <td>0.730625</td>\n",
       "      <td>0.371478</td>\n",
       "      <td>0.609490</td>\n",
       "      <td>0.982963</td>\n",
       "    </tr>\n",
       "  </tbody>\n",
       "</table>\n",
       "</div>"
      ],
      "text/plain": [
       "     contrast  dissimilarity  homogeneity       ASM    energy  correlation\n",
       "0  635.471349      13.537202     0.255135  0.000401  0.020035     0.885367\n",
       "1  343.540846       3.880352     0.671095  0.241293  0.491216     0.983768\n",
       "2  704.991511      10.143824     0.441720  0.001257  0.035448     0.914014\n",
       "3  307.985498       6.233222     0.287969  0.000482  0.021962     0.970347\n",
       "4  362.317913       4.146900     0.730625  0.371478  0.609490     0.982963"
      ]
     },
     "execution_count": 19,
     "metadata": {},
     "output_type": "execute_result"
    }
   ],
   "source": [
    "tf= tf.drop('Unnamed: 0', axis=1)\n",
    "x_test = tf.drop('class', axis=1)\n",
    "Y_test = tf['class']\n",
    "x_test.head()"
   ]
  },
  {
   "cell_type": "code",
   "execution_count": 20,
   "metadata": {},
   "outputs": [
    {
     "data": {
      "text/html": [
       "<div>\n",
       "<style scoped>\n",
       "    .dataframe tbody tr th:only-of-type {\n",
       "        vertical-align: middle;\n",
       "    }\n",
       "\n",
       "    .dataframe tbody tr th {\n",
       "        vertical-align: top;\n",
       "    }\n",
       "\n",
       "    .dataframe thead th {\n",
       "        text-align: right;\n",
       "    }\n",
       "</style>\n",
       "<table border=\"1\" class=\"dataframe\">\n",
       "  <thead>\n",
       "    <tr style=\"text-align: right;\">\n",
       "      <th></th>\n",
       "      <th>0</th>\n",
       "      <th>1</th>\n",
       "      <th>2</th>\n",
       "      <th>3</th>\n",
       "      <th>4</th>\n",
       "      <th>5</th>\n",
       "    </tr>\n",
       "  </thead>\n",
       "  <tbody>\n",
       "    <tr>\n",
       "      <th>0</th>\n",
       "      <td>0.255079</td>\n",
       "      <td>0.738219</td>\n",
       "      <td>-0.382830</td>\n",
       "      <td>-0.390838</td>\n",
       "      <td>-0.504320</td>\n",
       "      <td>-0.520284</td>\n",
       "    </tr>\n",
       "    <tr>\n",
       "      <th>1</th>\n",
       "      <td>-0.565392</td>\n",
       "      <td>-1.384250</td>\n",
       "      <td>1.996197</td>\n",
       "      <td>1.921965</td>\n",
       "      <td>2.230745</td>\n",
       "      <td>1.188075</td>\n",
       "    </tr>\n",
       "    <tr>\n",
       "      <th>2</th>\n",
       "      <td>0.450465</td>\n",
       "      <td>-0.007608</td>\n",
       "      <td>0.684321</td>\n",
       "      <td>-0.382628</td>\n",
       "      <td>-0.414853</td>\n",
       "      <td>-0.022939</td>\n",
       "    </tr>\n",
       "    <tr>\n",
       "      <th>3</th>\n",
       "      <td>-0.665320</td>\n",
       "      <td>-0.867115</td>\n",
       "      <td>-0.195039</td>\n",
       "      <td>-0.390061</td>\n",
       "      <td>-0.493132</td>\n",
       "      <td>0.955074</td>\n",
       "    </tr>\n",
       "    <tr>\n",
       "      <th>4</th>\n",
       "      <td>-0.512619</td>\n",
       "      <td>-1.325666</td>\n",
       "      <td>2.336673</td>\n",
       "      <td>3.171868</td>\n",
       "      <td>2.917288</td>\n",
       "      <td>1.174102</td>\n",
       "    </tr>\n",
       "    <tr>\n",
       "      <th>...</th>\n",
       "      <td>...</td>\n",
       "      <td>...</td>\n",
       "      <td>...</td>\n",
       "      <td>...</td>\n",
       "      <td>...</td>\n",
       "      <td>...</td>\n",
       "    </tr>\n",
       "    <tr>\n",
       "      <th>295</th>\n",
       "      <td>-0.562288</td>\n",
       "      <td>-0.134136</td>\n",
       "      <td>-0.310358</td>\n",
       "      <td>-0.383948</td>\n",
       "      <td>-0.426430</td>\n",
       "      <td>0.392955</td>\n",
       "    </tr>\n",
       "    <tr>\n",
       "      <th>296</th>\n",
       "      <td>0.273341</td>\n",
       "      <td>0.780795</td>\n",
       "      <td>-1.028771</td>\n",
       "      <td>-0.392371</td>\n",
       "      <td>-0.530365</td>\n",
       "      <td>-1.178560</td>\n",
       "    </tr>\n",
       "    <tr>\n",
       "      <th>297</th>\n",
       "      <td>1.305652</td>\n",
       "      <td>0.602308</td>\n",
       "      <td>1.160213</td>\n",
       "      <td>1.215213</td>\n",
       "      <td>1.756342</td>\n",
       "      <td>-0.451967</td>\n",
       "    </tr>\n",
       "    <tr>\n",
       "      <th>298</th>\n",
       "      <td>1.083602</td>\n",
       "      <td>1.425746</td>\n",
       "      <td>-0.590442</td>\n",
       "      <td>-0.388790</td>\n",
       "      <td>-0.476687</td>\n",
       "      <td>-0.701828</td>\n",
       "    </tr>\n",
       "    <tr>\n",
       "      <th>299</th>\n",
       "      <td>0.842700</td>\n",
       "      <td>1.171277</td>\n",
       "      <td>-0.845888</td>\n",
       "      <td>-0.387239</td>\n",
       "      <td>-0.458887</td>\n",
       "      <td>-1.053816</td>\n",
       "    </tr>\n",
       "  </tbody>\n",
       "</table>\n",
       "<p>300 rows × 6 columns</p>\n",
       "</div>"
      ],
      "text/plain": [
       "            0         1         2         3         4         5\n",
       "0    0.255079  0.738219 -0.382830 -0.390838 -0.504320 -0.520284\n",
       "1   -0.565392 -1.384250  1.996197  1.921965  2.230745  1.188075\n",
       "2    0.450465 -0.007608  0.684321 -0.382628 -0.414853 -0.022939\n",
       "3   -0.665320 -0.867115 -0.195039 -0.390061 -0.493132  0.955074\n",
       "4   -0.512619 -1.325666  2.336673  3.171868  2.917288  1.174102\n",
       "..        ...       ...       ...       ...       ...       ...\n",
       "295 -0.562288 -0.134136 -0.310358 -0.383948 -0.426430  0.392955\n",
       "296  0.273341  0.780795 -1.028771 -0.392371 -0.530365 -1.178560\n",
       "297  1.305652  0.602308  1.160213  1.215213  1.756342 -0.451967\n",
       "298  1.083602  1.425746 -0.590442 -0.388790 -0.476687 -0.701828\n",
       "299  0.842700  1.171277 -0.845888 -0.387239 -0.458887 -1.053816\n",
       "\n",
       "[300 rows x 6 columns]"
      ]
     },
     "execution_count": 20,
     "metadata": {},
     "output_type": "execute_result"
    }
   ],
   "source": [
    "from sklearn.preprocessing import StandardScaler\n",
    "from pandas import DataFrame\n",
    "x_test = sc.transform(x_test)\n",
    "x_test=DataFrame(x_test)\n",
    "x_test"
   ]
  },
  {
   "cell_type": "code",
   "execution_count": 21,
   "metadata": {},
   "outputs": [
    {
     "name": "stdout",
     "output_type": "stream",
     "text": [
      "Accuracy: 0.4866666666666667\n",
      "[0 2 1 2 2 0 1 2 0 2 1 2 2 0 0 0 1 2 0 2 2 0 1 1 1 1 0 1 2 1 0 2 2 1 1 0 0\n",
      " 0 1 0 1 0 1 0 1 0 0 1 2 0 1 0 2 0 1 0 1 0 0 0 1 0 0 1 0 0 0 1 1 2 1 0 1 2\n",
      " 1 2 0 2 1 0 1 0 0 2 1 2 0 0 0 0 1 2 1 0 1 2 0 0 1 1 0 1 2 1 0 2 0 1 1 2 2\n",
      " 1 1 2 0 2 2 2 2 0 1 1 1 1 2 1 2 1 0 0 1 2 0 2 0 0 2 1 1 1 0 2 0 1 0 2 1 0\n",
      " 1 2 1 2 2 2 0 2 2 1 0 0 1 2 1 2 0 1 0 2 0 2 1 0 2 1 2 0 1 0 2 0 2 0 1 1 0\n",
      " 0 1 0 2 0 0 2 0 1 2 2 1 0 1 0 0 0 1 1 0 2 2 2 0 2 2 0 1 2 0 1 1 2 0 0 2 0\n",
      " 0 2 0 0 1 1 0 0 1 0 0 0 0 0 2 0 1 2 1 1 1 0 1 0 1 1 0 0 0 2 0 0 1 0 1 2 0\n",
      " 1 2 0 1 0 1 2 0 2 0 1 1 2 0 1 1 1 0 1 1 1 2 1 0 2 1 0 1 1 0 1 2 2 2 0 2 0\n",
      " 1 1 0 1]\n"
     ]
    }
   ],
   "source": [
    "Yt=abc.predict(x_test)\n",
    "print(\"Accuracy:\",metrics.accuracy_score(Y_test, Yt))\n",
    "print(Yt)"
   ]
  },
  {
   "cell_type": "code",
   "execution_count": 22,
   "metadata": {},
   "outputs": [
    {
     "name": "stdout",
     "output_type": "stream",
     "text": [
      "              precision    recall  f1-score   support\n",
      "\n",
      "           0       0.39      0.45      0.42       100\n",
      "           1       0.55      0.57      0.56       100\n",
      "           2       0.55      0.44      0.49       100\n",
      "\n",
      "    accuracy                           0.49       300\n",
      "   macro avg       0.50      0.49      0.49       300\n",
      "weighted avg       0.50      0.49      0.49       300\n",
      "\n"
     ]
    }
   ],
   "source": [
    "from sklearn.metrics import classification_report\n",
    "\n",
    "print(classification_report(Y_test, Yt))"
   ]
  },
  {
   "cell_type": "markdown",
   "metadata": {},
   "source": [
    "# Recognition  "
   ]
  },
  {
   "cell_type": "markdown",
   "metadata": {},
   "source": [
    " <b>Class: 0 (Bed)</b>"
   ]
  },
  {
   "cell_type": "code",
   "execution_count": 23,
   "metadata": {},
   "outputs": [
    {
     "name": "stdout",
     "output_type": "stream",
     "text": [
      "Please enter the path of the Bed image :C:\\Users\\admin\\Desktop\\TY Go Carona Go Sem2\\CV\\CV CP\\bed.jpg\n"
     ]
    },
    {
     "data": {
      "image/png": "[encoded data removed]",
      "text/plain": [
       "<Figure size 432x288 with 1 Axes>"
      ]
     },
     "metadata": {
      "needs_background": "light"
     },
     "output_type": "display_data"
    }
   ],
   "source": [
    "path=input(\"Please enter the path of the Bed image :\")\n",
    "r=1\n",
    "import xlsxwriter\n",
    "outWorkbook=xlsxwriter.Workbook(\"bed.xlsx\")\n",
    "outsheet=outWorkbook.add_worksheet()\n",
    "\n",
    "# Pre-Formatting Excel File To Extract The Features:\n",
    "\n",
    "outsheet.write(\"A1\",\"contrast\")\n",
    "outsheet.write(\"B1\",\"dissimilarity\")\n",
    "outsheet.write(\"C1\",\"homogeneity\")\n",
    "outsheet.write(\"D1\",\"ASM\")\n",
    "outsheet.write(\"E1\",\"energy\")\n",
    "outsheet.write(\"F1\",\"correlation\")\n",
    "\n",
    "img=cv2.imread(path,0)\n",
    "plt.imshow(cv2.cvtColor(img, cv2.COLOR_RGB2BGR))                        ### Conversion of image to Grey Scale (Image Pre-Processing)\n",
    "img=cv2.resize(img,(256,256))                                           ### Resizing of image to a sized of 256x256\n",
    "img_arr=np.array(img)                                                   ### Conversion of image to NP Array\n",
    "\n",
    "\n",
    "# Image GLCM Features' Extraction:\n",
    "\n",
    "Glcm_mat=greycomatrix(img_arr,[2],[0],256,symmetric=True, normed=True)\n",
    "contrast=greycoprops(Glcm_mat, prop='contrast')\n",
    "dissimilarity=greycoprops(Glcm_mat, prop='dissimilarity')\n",
    "homogeneity=greycoprops(Glcm_mat, prop='homogeneity')\n",
    "ASM=greycoprops(Glcm_mat, prop='ASM')\n",
    "energy=greycoprops(Glcm_mat, prop='energy')\n",
    "correlation=greycoprops(Glcm_mat, 'correlation')\n",
    "\n",
    "outsheet.write(r,0,contrast)\n",
    "outsheet.write(r,1,dissimilarity)\n",
    "outsheet.write(r,2,homogeneity)\n",
    "outsheet.write(r,3,ASM)\n",
    "outsheet.write(r,4,energy)\n",
    "outsheet.write(r,5,correlation)\n",
    "    \n",
    "outWorkbook.close()"
   ]
  },
  {
   "cell_type": "code",
   "execution_count": 24,
   "metadata": {},
   "outputs": [
    {
     "data": {
      "text/html": [
       "<div>\n",
       "<style scoped>\n",
       "    .dataframe tbody tr th:only-of-type {\n",
       "        vertical-align: middle;\n",
       "    }\n",
       "\n",
       "    .dataframe tbody tr th {\n",
       "        vertical-align: top;\n",
       "    }\n",
       "\n",
       "    .dataframe thead th {\n",
       "        text-align: right;\n",
       "    }\n",
       "</style>\n",
       "<table border=\"1\" class=\"dataframe\">\n",
       "  <thead>\n",
       "    <tr style=\"text-align: right;\">\n",
       "      <th></th>\n",
       "      <th>0</th>\n",
       "      <th>1</th>\n",
       "      <th>2</th>\n",
       "      <th>3</th>\n",
       "      <th>4</th>\n",
       "      <th>5</th>\n",
       "    </tr>\n",
       "  </thead>\n",
       "  <tbody>\n",
       "    <tr>\n",
       "      <th>0</th>\n",
       "      <td>0.11641</td>\n",
       "      <td>0.472731</td>\n",
       "      <td>-0.537383</td>\n",
       "      <td>-0.373071</td>\n",
       "      <td>-0.345152</td>\n",
       "      <td>0.53455</td>\n",
       "    </tr>\n",
       "  </tbody>\n",
       "</table>\n",
       "</div>"
      ],
      "text/plain": [
       "         0         1         2         3         4        5\n",
       "0  0.11641  0.472731 -0.537383 -0.373071 -0.345152  0.53455"
      ]
     },
     "execution_count": 24,
     "metadata": {},
     "output_type": "execute_result"
    }
   ],
   "source": [
    "test_bed=pd.read_excel(r'C:\\Users\\admin\\Desktop\\TY Go Carona Go Sem2\\CV\\CV CP\\bed.xlsx')\n",
    "test_bed.head()\n",
    "test_bed = sc.transform(test_bed)\n",
    "test_bed=DataFrame(test_bed)\n",
    "test_bed"
   ]
  },
  {
   "cell_type": "code",
   "execution_count": 25,
   "metadata": {},
   "outputs": [
    {
     "name": "stdout",
     "output_type": "stream",
     "text": [
      "[0]\n"
     ]
    }
   ],
   "source": [
    "testb=abc.predict(test_bed)\n",
    "print(testb)"
   ]
  },
  {
   "cell_type": "markdown",
   "metadata": {},
   "source": [
    " <b>Class: 1 (Chair)</b>"
   ]
  },
  {
   "cell_type": "code",
   "execution_count": 27,
   "metadata": {},
   "outputs": [
    {
     "name": "stdout",
     "output_type": "stream",
     "text": [
      "Please enter the path of the Chair image :C:\\Users\\admin\\Desktop\\TY Go Carona Go Sem2\\CV\\CV CP\\chair.jpg\n"
     ]
    },
    {
     "data": {
      "image/png": "[encoded data removed]",
      "text/plain": [
       "<Figure size 432x288 with 1 Axes>"
      ]
     },
     "metadata": {
      "needs_background": "light"
     },
     "output_type": "display_data"
    }
   ],
   "source": [
    "path=input(\"Please enter the path of the Chair image :\")\n",
    "r=1\n",
    "import xlsxwriter\n",
    "outWorkbook=xlsxwriter.Workbook(\"chair.xlsx\")\n",
    "outsheet=outWorkbook.add_worksheet()\n",
    "\n",
    "# Pre-Formatting Excel File To Extract The Features:\n",
    "\n",
    "outsheet.write(\"A1\",\"contrast\")\n",
    "outsheet.write(\"B1\",\"dissimilarity\")\n",
    "outsheet.write(\"C1\",\"homogeneity\")\n",
    "outsheet.write(\"D1\",\"ASM\")\n",
    "outsheet.write(\"E1\",\"energy\")\n",
    "outsheet.write(\"F1\",\"correlation\")\n",
    "\n",
    "img=cv2.imread(path,0)                                                   ### Conversion of image to Grey Scale (Image Pre-Processing)\n",
    "plt.imshow(cv2.cvtColor(img, cv2.COLOR_RGB2BGR))\n",
    "img=cv2.resize(img,(256,256))                                           ### Resizing of image to a sized of 256x256\n",
    "img_arr=np.array(img)                                                   ### Conversion of image to NP Array\n",
    "\n",
    "\n",
    "# Image GLCM Features' Extraction:\n",
    "\n",
    "Glcm_mat=greycomatrix(img_arr,[2],[0],256,symmetric=True, normed=True)\n",
    "contrast=greycoprops(Glcm_mat, prop='contrast')\n",
    "dissimilarity=greycoprops(Glcm_mat, prop='dissimilarity')\n",
    "homogeneity=greycoprops(Glcm_mat, prop='homogeneity')\n",
    "ASM=greycoprops(Glcm_mat, prop='ASM')\n",
    "energy=greycoprops(Glcm_mat, prop='energy')\n",
    "correlation=greycoprops(Glcm_mat, 'correlation')\n",
    "\n",
    "outsheet.write(r,0,contrast)\n",
    "outsheet.write(r,1,dissimilarity)\n",
    "outsheet.write(r,2,homogeneity)\n",
    "outsheet.write(r,3,ASM)\n",
    "outsheet.write(r,4,energy)\n",
    "outsheet.write(r,5,correlation)\n",
    "outWorkbook.close()    "
   ]
  },
  {
   "cell_type": "code",
   "execution_count": 28,
   "metadata": {},
   "outputs": [
    {
     "data": {
      "text/html": [
       "<div>\n",
       "<style scoped>\n",
       "    .dataframe tbody tr th:only-of-type {\n",
       "        vertical-align: middle;\n",
       "    }\n",
       "\n",
       "    .dataframe tbody tr th {\n",
       "        vertical-align: top;\n",
       "    }\n",
       "\n",
       "    .dataframe thead th {\n",
       "        text-align: right;\n",
       "    }\n",
       "</style>\n",
       "<table border=\"1\" class=\"dataframe\">\n",
       "  <thead>\n",
       "    <tr style=\"text-align: right;\">\n",
       "      <th></th>\n",
       "      <th>0</th>\n",
       "      <th>1</th>\n",
       "      <th>2</th>\n",
       "      <th>3</th>\n",
       "      <th>4</th>\n",
       "      <th>5</th>\n",
       "    </tr>\n",
       "  </thead>\n",
       "  <tbody>\n",
       "    <tr>\n",
       "      <th>0</th>\n",
       "      <td>3.154659</td>\n",
       "      <td>0.584069</td>\n",
       "      <td>1.757407</td>\n",
       "      <td>2.579778</td>\n",
       "      <td>2.610303</td>\n",
       "      <td>-1.150947</td>\n",
       "    </tr>\n",
       "  </tbody>\n",
       "</table>\n",
       "</div>"
      ],
      "text/plain": [
       "          0         1         2         3         4         5\n",
       "0  3.154659  0.584069  1.757407  2.579778  2.610303 -1.150947"
      ]
     },
     "execution_count": 28,
     "metadata": {},
     "output_type": "execute_result"
    }
   ],
   "source": [
    "test_chair=pd.read_excel(r'C:\\Users\\admin\\Desktop\\TY Go Carona Go Sem2\\CV\\CV CP\\chair.xlsx')\n",
    "test_chair.head()\n",
    "test_chair = sc.transform(test_chair)\n",
    "test_chair=DataFrame(test_chair)\n",
    "test_chair"
   ]
  },
  {
   "cell_type": "code",
   "execution_count": 29,
   "metadata": {},
   "outputs": [
    {
     "name": "stdout",
     "output_type": "stream",
     "text": [
      "[1]\n"
     ]
    }
   ],
   "source": [
    "testc=abc.predict(test_chair)\n",
    "print(testc)"
   ]
  },
  {
   "cell_type": "markdown",
   "metadata": {},
   "source": [
    " <b>Class: 2 (Sofa)</b>"
   ]
  },
  {
   "cell_type": "code",
   "execution_count": 30,
   "metadata": {},
   "outputs": [
    {
     "name": "stdout",
     "output_type": "stream",
     "text": [
      "Please enter the path of the Sofa image :C:\\Users\\admin\\Desktop\\TY Go Carona Go Sem2\\CV\\CV CP\\sofa.jpg\n"
     ]
    },
    {
     "data": {
      "image/png": "[encoded data removed]",
      "text/plain": [
       "<Figure size 432x288 with 1 Axes>"
      ]
     },
     "metadata": {
      "needs_background": "light"
     },
     "output_type": "display_data"
    }
   ],
   "source": [
    "path=input(\"Please enter the path of the Sofa image :\")\n",
    "r=1\n",
    "import xlsxwriter\n",
    "outWorkbook=xlsxwriter.Workbook(\"sofa.xlsx\")\n",
    "outsheet=outWorkbook.add_worksheet()\n",
    "\n",
    "# Pre-Formatting Excel File To Extract The Features:\n",
    "\n",
    "outsheet.write(\"A1\",\"contrast\")\n",
    "outsheet.write(\"B1\",\"dissimilarity\")\n",
    "outsheet.write(\"C1\",\"homogeneity\")\n",
    "outsheet.write(\"D1\",\"ASM\")\n",
    "outsheet.write(\"E1\",\"energy\")\n",
    "outsheet.write(\"F1\",\"correlation\")\n",
    "\n",
    "img=cv2.imread(path,0)                                                  ### Conversion of image to Grey Scale (Image Pre-Processing)\n",
    "plt.imshow(cv2.cvtColor(img, cv2.COLOR_RGB2BGR))\n",
    "img=cv2.resize(img,(256,256))                                           ### Resizing of image to a sized of 256x256\n",
    "img_arr=np.array(img)                                                   ### Conversion of image to NP Array\n",
    "\n",
    "\n",
    "# Image GLCM Features' Extraction:\n",
    "\n",
    "Glcm_mat=greycomatrix(img_arr,[2],[0],256,symmetric=True, normed=True)\n",
    "contrast=greycoprops(Glcm_mat, prop='contrast')\n",
    "dissimilarity=greycoprops(Glcm_mat, prop='dissimilarity')\n",
    "homogeneity=greycoprops(Glcm_mat, prop='homogeneity')\n",
    "ASM=greycoprops(Glcm_mat, prop='ASM')\n",
    "energy=greycoprops(Glcm_mat, prop='energy')\n",
    "correlation=greycoprops(Glcm_mat, 'correlation')\n",
    "\n",
    "outsheet.write(r,0,contrast)\n",
    "outsheet.write(r,1,dissimilarity)\n",
    "outsheet.write(r,2,homogeneity)\n",
    "outsheet.write(r,3,ASM)\n",
    "outsheet.write(r,4,energy)\n",
    "outsheet.write(r,5,correlation)\n",
    "outWorkbook.close()"
   ]
  },
  {
   "cell_type": "code",
   "execution_count": 31,
   "metadata": {},
   "outputs": [
    {
     "data": {
      "text/html": [
       "<div>\n",
       "<style scoped>\n",
       "    .dataframe tbody tr th:only-of-type {\n",
       "        vertical-align: middle;\n",
       "    }\n",
       "\n",
       "    .dataframe tbody tr th {\n",
       "        vertical-align: top;\n",
       "    }\n",
       "\n",
       "    .dataframe thead th {\n",
       "        text-align: right;\n",
       "    }\n",
       "</style>\n",
       "<table border=\"1\" class=\"dataframe\">\n",
       "  <thead>\n",
       "    <tr style=\"text-align: right;\">\n",
       "      <th></th>\n",
       "      <th>0</th>\n",
       "      <th>1</th>\n",
       "      <th>2</th>\n",
       "      <th>3</th>\n",
       "      <th>4</th>\n",
       "      <th>5</th>\n",
       "    </tr>\n",
       "  </thead>\n",
       "  <tbody>\n",
       "    <tr>\n",
       "      <th>0</th>\n",
       "      <td>-0.34966</td>\n",
       "      <td>-0.551496</td>\n",
       "      <td>0.267662</td>\n",
       "      <td>0.136064</td>\n",
       "      <td>0.744184</td>\n",
       "      <td>0.852428</td>\n",
       "    </tr>\n",
       "  </tbody>\n",
       "</table>\n",
       "</div>"
      ],
      "text/plain": [
       "         0         1         2         3         4         5\n",
       "0 -0.34966 -0.551496  0.267662  0.136064  0.744184  0.852428"
      ]
     },
     "execution_count": 31,
     "metadata": {},
     "output_type": "execute_result"
    }
   ],
   "source": [
    "test_sofa=pd.read_excel(r'C:\\Users\\admin\\Desktop\\TY Go Carona Go Sem2\\CV\\CV CP\\sofa.xlsx')\n",
    "test_sofa.head()\n",
    "test_sofa = sc.transform(test_sofa)\n",
    "test_sofa=DataFrame(test_sofa)\n",
    "test_sofa"
   ]
  },
  {
   "cell_type": "code",
   "execution_count": 32,
   "metadata": {},
   "outputs": [
    {
     "name": "stdout",
     "output_type": "stream",
     "text": [
      "[2]\n"
     ]
    }
   ],
   "source": [
    "tests=abc.predict(test_sofa)\n",
    "print(tests)"
   ]
  },
  {
   "cell_type": "markdown",
   "metadata": {},
   "source": [
    "# Real time Detection"
   ]
  },
  {
   "cell_type": "code",
   "execution_count": 33,
   "metadata": {},
   "outputs": [],
   "source": [
    "def classify(cropped):\n",
    "    \n",
    "    img=cropped                                                  ### Conversion of image to Grey Scale (Image Pre-Processing)\n",
    "    img = cv2.cvtColor(img, cv2.COLOR_BGR2GRAY)\n",
    "    img=cv2.resize(img,(256,256))                                           ### Resizing of image to a sized of 256x256\n",
    "    img_arr=np.array(img)\n",
    "\n",
    "    Glcm_mat=greycomatrix(img_arr,[2],[0],256,symmetric=True, normed=True)\n",
    "    contrast=greycoprops(Glcm_mat, prop='contrast')\n",
    "    dissimilarity=greycoprops(Glcm_mat, prop='dissimilarity')\n",
    "    homogeneity=greycoprops(Glcm_mat, prop='homogeneity')\n",
    "    ASM=greycoprops(Glcm_mat, prop='ASM')\n",
    "    energy=greycoprops(Glcm_mat, prop='energy')\n",
    "    correlation=greycoprops(Glcm_mat, 'correlation')\n",
    "\n",
    "    contrast=pd.DataFrame(contrast)\n",
    "    dissimilarity=pd.DataFrame(dissimilarity)\n",
    "    homogeneity=pd.DataFrame(homogeneity)\n",
    "    ASM=pd.DataFrame(ASM)\n",
    "    energy=pd.DataFrame(energy)\n",
    "    correlation=pd.DataFrame(correlation)\n",
    "    out=pd.concat([contrast,dissimilarity,homogeneity,ASM,energy,correlation],axis=1)\n",
    "\n",
    "    test1 = sc.transform(out)\n",
    "    test1=DataFrame(test1)\n",
    "    pred=abc.predict(test1)\n",
    "    return pred\n",
    "  \n",
    "def final_class(prediction):\n",
    "    \n",
    "    B=\"Bed\"\n",
    "    C=\"Chair\"\n",
    "    S=\"Sofa\"\n",
    "    n=\"not_sure\"\n",
    "    #loop through predicted output, crosschecked with desired output \n",
    "    for i in prediction:\n",
    "        if(i==0):\n",
    "            return B\n",
    "        elif(i==1):\n",
    "            return C\n",
    "        elif(i==2):\n",
    "            return S\n",
    "        elif(i==3):\n",
    "            return n\n",
    "    \n",
    "\n",
    "cap = cv2.VideoCapture(0)\n",
    "\n",
    "while True:\n",
    "    # Get webcam images\n",
    "    ret, frame = cap.read()\n",
    "\n",
    "    # Get height and width of webcam frame\n",
    "    height, width = frame.shape[:2]\n",
    "\n",
    "    \n",
    "    cropped = frame\n",
    "    prediction =classify(cropped)\n",
    "    \n",
    "    output=final_class(prediction)\n",
    "\n",
    "    \n",
    "    cv2.putText(frame, output,(50,50), cv2.FONT_HERSHEY_COMPLEX, 2 ,(255,128,0), 2)\n",
    "    cv2.imshow('Recognition using GLCM', frame)\n",
    "    if cv2.waitKey(1) == 27: #esc is the Enter Key\n",
    "        break\n",
    "\n",
    "cap.release()\n",
    "cv2.destroyAllWindows()"
   ]
  },
  {
   "cell_type": "code",
   "execution_count": null,
   "metadata": {},
   "outputs": [],
   "source": []
  }
 ],
 "metadata": {
  "kernelspec": {
   "display_name": "Python 3",
   "language": "python",
   "name": "python3"
  },
  "language_info": {
   "codemirror_mode": {
    "name": "ipython",
    "version": 3
   },
   "file_extension": ".py",
   "mimetype": "text/x-python",
   "name": "python",
   "nbconvert_exporter": "python",
   "pygments_lexer": "ipython3",
   "version": "3.8.5"
  }
 },
 "nbformat": 4,
 "nbformat_minor": 4
}
